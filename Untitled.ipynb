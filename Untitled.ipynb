{
 "cells": [
  {
   "cell_type": "markdown",
   "id": "irish-sacramento",
   "metadata": {},
   "source": [
    "# Recurrent Neural Networks with Top-k Gains for Session-based Recommendations\n",
    "\n"
   ]
  },
  {
   "cell_type": "markdown",
   "id": "continent-spiritual",
   "metadata": {},
   "source": [
    "Un système de recommandation est une forme spécifique de filtrage de l'information (SI) visant à présenter les éléments d'information (films, musique, livres, news, images, pages Web, etc) qui sont susceptibles d'intéresser l'utilisateur. Généralement, un système de recommandation permet de comparer le profil d'un utilisateur à certaines caractéristiques de référence, et cherche à prédire l'« avis » que donnerait un utilisateur. Ces caractéristiques peuvent provenir de :\n",
    "\n",
    "- l'objet lui-même, on parle « d'approche basée sur le contenu » ou content-based approach ;\n",
    "- l'utilisateur ;\n",
    "- l'environnement social, on parle d'approche de filtrage collaboratif ou collaborative filtering."
   ]
  },
  {
   "cell_type": "code",
   "execution_count": null,
   "id": "invalid-desktop",
   "metadata": {},
   "outputs": [],
   "source": []
  }
 ],
 "metadata": {
  "kernelspec": {
   "display_name": "Python 3",
   "language": "python",
   "name": "python3"
  },
  "language_info": {
   "codemirror_mode": {
    "name": "ipython",
    "version": 3
   },
   "file_extension": ".py",
   "mimetype": "text/x-python",
   "name": "python",
   "nbconvert_exporter": "python",
   "pygments_lexer": "ipython3",
   "version": "3.8.3"
  }
 },
 "nbformat": 4,
 "nbformat_minor": 5
}
